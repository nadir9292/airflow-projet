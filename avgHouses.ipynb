{
 "cells": [
  {
   "cell_type": "code",
   "execution_count": 14,
   "metadata": {},
   "outputs": [
    {
     "name": "stdout",
     "output_type": "stream",
     "text": [
      "Résultat écrit dans le fichier : result/result_2024-07-03_11-49-01.csv\n"
     ]
    }
   ],
   "source": [
    "import pandas as pd\n",
    "import os\n",
    "from datetime import datetime\n",
    "\n",
    "df = pd.read_csv('./toProcess/houses.csv')\n",
    "\n",
    "avg = df['price'].mean()\n",
    "\n",
    "result_df = pd.DataFrame({'moyenne': [avg]})\n",
    "\n",
    "timestamp = datetime.now().strftime(\"%Y-%m-%d_%H-%M-%S\")\n",
    "filename = f\"result/result_{timestamp}.csv\"\n",
    "\n",
    "os.makedirs(os.path.dirname(filename), exist_ok=True)\n",
    "\n",
    "result_df.to_csv(filename, index=False)\n",
    "\n",
    "print(f\"Résultat écrit dans le fichier : {filename}\")\n",
    "\n",
    "\n",
    "\n"
   ]
  }
 ],
 "metadata": {
  "kernelspec": {
   "display_name": "Python 3",
   "language": "python",
   "name": "python3"
  },
  "language_info": {
   "codemirror_mode": {
    "name": "ipython",
    "version": 3
   },
   "file_extension": ".py",
   "mimetype": "text/x-python",
   "name": "python",
   "nbconvert_exporter": "python",
   "pygments_lexer": "ipython3",
   "version": "3.9.6"
  }
 },
 "nbformat": 4,
 "nbformat_minor": 2
}
